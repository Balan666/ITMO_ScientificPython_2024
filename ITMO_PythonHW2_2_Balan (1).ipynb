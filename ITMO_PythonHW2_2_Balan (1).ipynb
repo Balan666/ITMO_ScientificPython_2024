{
  "nbformat": 4,
  "nbformat_minor": 0,
  "metadata": {
    "colab": {
      "provenance": []
    },
    "kernelspec": {
      "name": "python3",
      "display_name": "Python 3"
    },
    "language_info": {
      "name": "python"
    }
  },
  "cells": [
    {
      "cell_type": "code",
      "source": [
        "!pip install biopython"
      ],
      "metadata": {
        "colab": {
          "base_uri": "https://localhost:8080/"
        },
        "id": "fIySW7izGxbx",
        "outputId": "4ed84255-e8c3-49b4-a8d9-2c3227eb57f6"
      },
      "execution_count": 1,
      "outputs": [
        {
          "output_type": "stream",
          "name": "stdout",
          "text": [
            "Collecting biopython\n",
            "  Downloading biopython-1.83-cp310-cp310-manylinux_2_17_x86_64.manylinux2014_x86_64.whl (3.1 MB)\n",
            "\u001b[2K     \u001b[90m━━━━━━━━━━━━━━━━━━━━━━━━━━━━━━━━━━━━━━━━\u001b[0m \u001b[32m3.1/3.1 MB\u001b[0m \u001b[31m9.9 MB/s\u001b[0m eta \u001b[36m0:00:00\u001b[0m\n",
            "\u001b[?25hRequirement already satisfied: numpy in /usr/local/lib/python3.10/dist-packages (from biopython) (1.25.2)\n",
            "Installing collected packages: biopython\n",
            "Successfully installed biopython-1.83\n"
          ]
        }
      ]
    },
    {
      "cell_type": "code",
      "source": [
        "!pip install -q condacolab\n",
        "import condacolab\n",
        "condacolab.install()"
      ],
      "metadata": {
        "colab": {
          "base_uri": "https://localhost:8080/"
        },
        "id": "b2fc4zqhqIMn",
        "outputId": "c627e375-411e-4564-9121-fd834baf00b0"
      },
      "execution_count": 2,
      "outputs": [
        {
          "output_type": "stream",
          "name": "stdout",
          "text": [
            "⏬ Downloading https://github.com/conda-forge/miniforge/releases/download/23.11.0-0/Mambaforge-23.11.0-0-Linux-x86_64.sh...\n",
            "📦 Installing...\n",
            "📌 Adjusting configuration...\n",
            "🩹 Patching environment...\n",
            "⏲ Done in 0:00:15\n",
            "🔁 Restarting kernel...\n"
          ]
        }
      ]
    },
    {
      "cell_type": "code",
      "source": [
        "!conda install -c bioconda seqkit"
      ],
      "metadata": {
        "colab": {
          "base_uri": "https://localhost:8080/"
        },
        "id": "46kKsccno2LZ",
        "outputId": "963edec2-35df-4da1-f809-664abffcf8b4"
      },
      "execution_count": 3,
      "outputs": [
        {
          "output_type": "stream",
          "name": "stdout",
          "text": [
            "Channels:\n",
            " - bioconda\n",
            " - conda-forge\n",
            "Platform: linux-64\n",
            "Collecting package metadata (repodata.json): - \b\b\\ \b\b| \b\b/ \b\b- \b\b\\ \b\b| \b\b/ \b\b- \b\b\\ \b\b| \b\b/ \b\b- \b\b\\ \b\b| \b\b/ \b\b- \b\b\\ \b\b| \b\b/ \b\b- \b\b\\ \b\b| \b\b/ \b\b- \b\b\\ \b\b| \b\b/ \b\b- \b\b\\ \b\b| \b\b/ \b\b- \b\b\\ \b\b| \b\b/ \b\b- \b\b\\ \b\b| \b\b/ \b\b- \b\b\\ \b\b| \b\b/ \b\b- \b\b\\ \b\b| \b\b/ \b\b- \b\b\\ \b\b| \b\b/ \b\b- \b\b\\ \b\b| \b\b/ \b\b- \b\b\\ \b\b| \b\b/ \b\b- \b\b\\ \b\b| \b\b/ \b\b- \b\b\\ \b\b| \b\b/ \b\b- \b\b\\ \b\b| \b\b/ \b\b- \b\b\\ \b\b| \b\b/ \b\b- \b\b\\ \b\b| \b\b/ \b\b- \b\b\\ \b\b| \b\b/ \b\b- \b\b\\ \b\b| \b\b/ \b\b- \b\b\\ \b\b| \b\b/ \b\b- \b\b\\ \b\b| \b\b/ \b\b- \b\b\\ \b\b| \b\b/ \b\b- \b\b\\ \b\b| \b\b/ \b\b- \b\b\\ \b\b| \b\b/ \b\b- \b\b\\ \b\b| \b\b/ \b\b- \b\b\\ \b\b| \b\b/ \b\b- \b\b\\ \b\b| \b\b/ \b\b- \b\b\\ \b\b| \b\b/ \b\b- \b\b\\ \b\b| \b\b/ \b\b- \b\b\\ \b\b| \b\b/ \b\b- \b\b\\ \b\b| \b\b/ \b\b- \b\b\\ \b\b| \b\b/ \b\b- \b\b\\ \b\b| \b\b/ \b\b- \b\b\\ \b\b| \b\b/ \b\b- \b\b\\ \b\b| \b\b/ \b\b- \b\b\\ \b\b| \b\b/ \b\b- \b\b\\ \b\b| \b\b/ \b\b- \b\b\\ \b\b| \b\b/ \b\b- \b\b\\ \b\b| \b\b/ \b\b- \b\b\\ \b\b| \b\b/ \b\b- \b\b\\ \b\b| \b\b/ \b\b- \b\b\\ \b\b| \b\b/ \b\b- \b\b\\ \b\b| \b\b/ \b\b- \b\b\\ \b\b| \b\b/ \b\b- \b\b\\ \b\b| \b\b/ \b\b- \b\b\\ \b\b| \b\b/ \b\b- \b\b\\ \b\b| \b\b/ \b\b- \b\b\\ \b\b| \b\b/ \b\b- \b\b\\ \b\b| \b\b/ \b\b- \b\b\\ \b\b| \b\b/ \b\b- \b\b\\ \b\b| \b\b/ \b\b- \b\b\\ \b\b| \b\b/ \b\b- \b\b\\ \b\b| \b\b/ \b\b- \b\b\\ \b\b| \b\bdone\n",
            "Solving environment: - \b\b\\ \b\b| \b\bdone\n",
            "\n",
            "\n",
            "==> WARNING: A newer version of conda exists. <==\n",
            "    current version: 23.11.0\n",
            "    latest version: 24.4.0\n",
            "\n",
            "Please update conda by running\n",
            "\n",
            "    $ conda update -n base -c conda-forge conda\n",
            "\n",
            "\n",
            "\n",
            "## Package Plan ##\n",
            "\n",
            "  environment location: /usr/local\n",
            "\n",
            "  added / updated specs:\n",
            "    - seqkit\n",
            "\n",
            "\n",
            "The following packages will be downloaded:\n",
            "\n",
            "    package                    |            build\n",
            "    ---------------------------|-----------------\n",
            "    ca-certificates-2024.2.2   |       hbcca054_0         152 KB  conda-forge\n",
            "    certifi-2024.2.2           |     pyhd8ed1ab_0         157 KB  conda-forge\n",
            "    openssl-3.3.0              |       hd590300_0         2.8 MB  conda-forge\n",
            "    seqkit-2.8.1               |       h9ee0642_0         7.1 MB  bioconda\n",
            "    ------------------------------------------------------------\n",
            "                                           Total:        10.2 MB\n",
            "\n",
            "The following NEW packages will be INSTALLED:\n",
            "\n",
            "  seqkit             bioconda/linux-64::seqkit-2.8.1-h9ee0642_0 \n",
            "\n",
            "The following packages will be UPDATED:\n",
            "\n",
            "  ca-certificates                     2023.11.17-hbcca054_0 --> 2024.2.2-hbcca054_0 \n",
            "  certifi                           2023.11.17-pyhd8ed1ab_0 --> 2024.2.2-pyhd8ed1ab_0 \n",
            "  openssl                                  3.2.0-hd590300_1 --> 3.3.0-hd590300_0 \n",
            "\n",
            "\n",
            "\n",
            "Downloading and Extracting Packages:\n",
            "seqkit-2.8.1         | 7.1 MB    | :   0% 0/1 [00:00<?, ?it/s]\n",
            "openssl-3.3.0        | 2.8 MB    | :   0% 0/1 [00:00<?, ?it/s]\u001b[A\n",
            "\n",
            "certifi-2024.2.2     | 157 KB    | :   0% 0/1 [00:00<?, ?it/s]\u001b[A\u001b[A\n",
            "\n",
            "\n",
            "ca-certificates-2024 | 152 KB    | :   0% 0/1 [00:00<?, ?it/s]\u001b[A\u001b[A\u001b[A\n",
            "seqkit-2.8.1         | 7.1 MB    | :   0% 0.0022029514763095993/1 [00:00<00:56, 56.63s/it]\n",
            "\n",
            "\n",
            "ca-certificates-2024 | 152 KB    | :  11% 0.10540943949765814/1 [00:00<00:01,  1.14s/it]\u001b[A\u001b[A\u001b[A\n",
            "\n",
            "certifi-2024.2.2     | 157 KB    | :  10% 0.10204348557228184/1 [00:00<00:01,  1.25s/it]\u001b[A\u001b[A\n",
            "\n",
            "\n",
            "ca-certificates-2024 | 152 KB    | : 100% 1.0/1 [00:00<00:00,  1.14s/it]                \u001b[A\u001b[A\u001b[A\n",
            "\n",
            "seqkit-2.8.1         | 7.1 MB    | :  48% 0.4802434218354926/1 [00:00<00:00,  2.55it/s]   \n",
            "openssl-3.3.0        | 2.8 MB    | : 100% 1.0/1 [00:00<00:00,  2.60it/s]                 \u001b[A\n",
            "                                                                        \n",
            "                                                                        \u001b[A\n",
            "\n",
            "                                                                        \u001b[A\u001b[A\n",
            "\n",
            "\n",
            "                                                                        \u001b[A\u001b[A\u001b[A\n",
            "Preparing transaction: - \b\bdone\n",
            "Verifying transaction: | \b\b/ \b\bdone\n",
            "Executing transaction: \\ \b\b| \b\b/ \b\b- \b\b\\ \b\b| \b\bdone\n"
          ]
        }
      ]
    },
    {
      "cell_type": "code",
      "execution_count": 18,
      "metadata": {
        "id": "cap3E_cx35qt"
      },
      "outputs": [],
      "source": [
        "import subprocess\n",
        "import os\n",
        "from Bio import SeqIO\n",
        "import requests\n",
        "import re\n",
        "import json\n",
        "import sys\n",
        "\n",
        "\n",
        "def seqkit_stats(fasta_file):\n",
        "    \"\"\"\n",
        "    Call \"seqkit stats\" on a given fasta file.\n",
        "\n",
        "    Args:\n",
        "        fasta_file (str): Path to the fasta file.\n",
        "\n",
        "    Returns:\n",
        "        str: Output from seqkit stats.\n",
        "    \"\"\"\n",
        "    try:\n",
        "        output = subprocess.check_output([\"seqkit\", \"stats\", fasta_file])\n",
        "        return output.decode(\"utf-8\")\n",
        "    except subprocess.CalledProcessError as e:\n",
        "        sys.stderr.write(\"Seqkit was not able to process your fasta file\\n\")\n",
        "        sys.exit('Seqkit was not able to process your fasta file\\n')\n",
        "        #return str(e)\n",
        "\n",
        "\n",
        "def parse_seqkit_output(output):\n",
        "    \"\"\"\n",
        "    Parse an output from seqkit.\n",
        "\n",
        "    Args:\n",
        "        output (str): Output from seqkit stats.\n",
        "\n",
        "    Returns:\n",
        "        tuple: File type (DNA or Protein), output from seqkit stats.\n",
        "    \"\"\"\n",
        "    try:\n",
        "        lines = output.split(\"\\n\")\n",
        "        return lines[1].split()[2]\n",
        "    except Exception as e:\n",
        "        sys.stderr.write(\"Seqkit was not able to process your fasta file\\n\")\n",
        "        return None, str(e)\n",
        "\n",
        "\n",
        "def save_stats(file_type, output):\n",
        "    \"\"\"\n",
        "    Save the stats output to a file.\n",
        "\n",
        "    Args:\n",
        "        file_type (str): File type (DNA or Protein).\n",
        "        output (str): Output from seqkit stats.\n",
        "    \"\"\"\n",
        "    file = f\"{fasta_file}_stats.txt\"\n",
        "    with open(file, \"w\") as f:\n",
        "        f.write(output)\n",
        "\n",
        "\n",
        "def read_fasta_with_biopython(fasta_file):\n",
        "    \"\"\"\n",
        "    Read a given fasta file with biopython.\n",
        "\n",
        "    Args:\n",
        "        fasta_file (str): Path to the fasta file.\n",
        "\n",
        "    Returns:\n",
        "        list: List of sequences.\n",
        "    \"\"\"\n",
        "    sequences = list(SeqIO.parse(fasta_file, \"fasta\"))\n",
        "    return sequences\n",
        "\n",
        "\n",
        "def iterate_over_sequences(sequences, file_type):\n",
        "    \"\"\"\n",
        "    Iterate over sequences to read the descriptions and search for IDs.\n",
        "\n",
        "    Args:\n",
        "        sequences (list): List of sequences.\n",
        "        file_type (str): File type (DNA or Protein).\n",
        "    \"\"\"\n",
        "    matched_ids = []\n",
        "    reads = {}\n",
        "    descriptions = {}\n",
        "\n",
        "    for sequence in sequences:\n",
        "        description = sequence.description\n",
        "\n",
        "        # Search for Uniprot ID\n",
        "        if file_type == \"Protein\":\n",
        "            uniprot_id = re.search(r'[OPQ][0-9][A-Z0-9]{3}[0-9]|[A-NR-Z][0-9]([A-Z][A-Z0-9]{2}[0-9]){1,2}', description)\n",
        "            if uniprot_id:\n",
        "                matched_ids.append(uniprot_id.group(0))\n",
        "                reads[uniprot_id.group(0)] = sequence.seq\n",
        "                descriptions[uniprot_id.group(0)] = sequence.description\n",
        "\n",
        "        # Search for ENSEMBL ID\n",
        "        elif file_type == \"DNA\":\n",
        "            ensembl_id = re.search(r'(ENS([A-Z]{0,4})|(MGP\\D*))(E|FM|G|GT|P|RF|T)\\d{11}', description)\n",
        "            if ensembl_id:\n",
        "                matched_ids.append(ensembl_id.group(0))\n",
        "                reads[ensembl_id.group(0)] = sequence.seq\n",
        "                descriptions[ensembl_id.group(0)] = sequence.description\n",
        "\n",
        "    return matched_ids, reads, descriptions"
      ]
    },
    {
      "cell_type": "code",
      "source": [
        "def get_uniprot(ids: list):\n",
        "    accessions = ','.join(ids)\n",
        "    endpoint = \"https://rest.uniprot.org/uniprotkb/accessions\"\n",
        "    http_function = requests.get\n",
        "    http_args = {'params': {'accessions': accessions}}\n",
        "    return http_function(endpoint, **http_args)\n",
        "\n",
        "\n",
        "def get_ensembl(accessions_list):\n",
        "    json_ids = json.dumps({\"ids\": accessions_list})\n",
        "    server = \"https://rest.ensembl.org\"\n",
        "    ext = \"/lookup/id\"\n",
        "    headers = {\"Content-Type\": \"application/json\", \"Accept\": \"application/json\"}\n",
        "    r = requests.post(server + ext, headers=headers, data=f'{json_ids}')\n",
        "    if not r.ok:\n",
        "        raise ValueError('Incorrect data entered.')\n",
        "\n",
        "    decoded = r.json()\n",
        "    return decoded\n",
        "\n",
        "def parse_response_uniprot(resp = None):\n",
        "    resp = resp.json()\n",
        "    resp = resp[\"results\"]\n",
        "    output = {}\n",
        "    for val in resp:\n",
        "        acc = val['primaryAccession']\n",
        "        species = val['organism']['scientificName']\n",
        "        gene = val['genes']\n",
        "        seq = val['sequence']\n",
        "        output[acc] = {'organism':species, 'geneInfo':gene, 'sequenceInfo':seq, 'type':'protein'}\n",
        "    if file_type[0]!=None:\n",
        "      with open(f\"{fasta_file}_stats.txt\", \"a\") as f:\n",
        "          f.write('---------------------------------------\\nInfo from Uniprot\\n(Name, read sequence, Uniprot info, description)\\n\\n')\n",
        "          for keys,values in output.items():\n",
        "            f.write(str(keys)+'\\n')\n",
        "            f.write(str(reads[keys])+'\\n')\n",
        "            f.write(str(values)+'\\n')\n",
        "            f.write(str(descriptions[keys])+'\\n\\n')\n",
        "      return output\n",
        "    else:\n",
        "      sys.exit('Something`s wrong with your fasta file!')\n",
        "\n",
        "\n",
        "def parse_response_ensembl(decoded):\n",
        "    output = {}\n",
        "    for val in decoded:\n",
        "        acc = decoded[val]['id']\n",
        "        species = decoded[val]['species']\n",
        "        type = decoded[val][\"object_type\"]\n",
        "        logic_name = decoded[val]['logic_name']\n",
        "        output[acc] = {'organism':species, 'logic_name':logic_name, 'type':type}\n",
        "    if file_type[0]!=None:\n",
        "      with open(f\"{fasta_file}_stats.txt\", \"a\") as f:\n",
        "          f.write('---------------------------------------\\nInfo from Ensembl\\n(Name, read sequence, Ensembl info, description)\\n\\n')\n",
        "          for keys,values in output.items():\n",
        "            f.write(str(keys)+'\\n')\n",
        "            f.write(str(reads[keys])+'\\n')\n",
        "            f.write(str(values)+'\\n')\n",
        "            f.write(str(descriptions[keys])+'\\n\\n')\n",
        "      return output\n",
        "    else:\n",
        "      sys.exit('Something`s wrong with your fasta file!')\n",
        "\n",
        "def parse_ID(ID_list):\n",
        "    ensembl_match = all(re.search(r'(ENS([A-Z]{0,4})|(MGP\\D*))(E|FM|G|GT|P|RF|T)\\d{11}', 'r' + ID) for ID in ID_list)\n",
        "    uniprot_match = all(re.search(r'[OPQ][0-9][A-Z0-9]{3}[0-9]|[A-NR-Z][0-9]([A-Z][A-Z0-9]{2}[0-9]){1,2}', 'r' + ID) for ID in ID_list)\n",
        "\n",
        "    if ensembl_match:\n",
        "        return parse_response_ensembl(get_ensembl(ID_list))\n",
        "    elif uniprot_match:\n",
        "        return parse_response_uniprot(get_uniprot(ID_list))\n",
        "    else:\n",
        "        return 'Check the ids\\' format'\n"
      ],
      "metadata": {
        "id": "tEWLbAfRBZa0"
      },
      "execution_count": 17,
      "outputs": []
    },
    {
      "cell_type": "code",
      "source": [
        "if __name__ == \"__main__\":\n",
        "\n",
        "    fasta_file = str(input('What is your fasta file path?\\n'))\n",
        "    #with open(fasta_file_path) as fasta_file:\n",
        "\n",
        "    # Call seqkit stats\n",
        "    output = seqkit_stats(fasta_file)\n",
        "\n",
        "    # Parse the output\n",
        "    file_type = parse_seqkit_output(output)\n",
        "\n",
        "    # Save the stats\n",
        "    if file_type is not None:\n",
        "        save_stats(file_type, output)\n",
        "\n",
        "    # Read the fasta file with biopython\n",
        "    sequences = read_fasta_with_biopython(fasta_file)\n",
        "\n",
        "    # Iterate over sequences to read the descriptions and search for IDs\n",
        "    matched_ids, reads, descriptions = iterate_over_sequences(sequences, file_type)\n",
        "\n",
        "    # Perform an API call to a given database (Uniprot or ENSEMBL)\n",
        "    #api_call(matched_ids, file_type)\n",
        "\n",
        "    print(parse_ID(matched_ids))"
      ],
      "metadata": {
        "colab": {
          "base_uri": "https://localhost:8080/",
          "height": 196
        },
        "id": "dZXkfiBQBgRz",
        "outputId": "2e7fe6b7-539e-4776-9838-d75eb7654655"
      },
      "execution_count": 21,
      "outputs": [
        {
          "name": "stdout",
          "output_type": "stream",
          "text": [
            "What is your fasta file path?\n",
            "/content/hw_file3.fasta\n"
          ]
        },
        {
          "output_type": "stream",
          "name": "stderr",
          "text": [
            "Seqkit was not able to process your fasta file\n"
          ]
        },
        {
          "output_type": "error",
          "ename": "SystemExit",
          "evalue": "Something`s wrong with your fasta file!",
          "traceback": [
            "An exception has occurred, use %tb to see the full traceback.\n",
            "\u001b[0;31mSystemExit\u001b[0m\u001b[0;31m:\u001b[0m Something`s wrong with your fasta file!\n"
          ]
        },
        {
          "output_type": "stream",
          "name": "stderr",
          "text": [
            "/usr/local/lib/python3.10/dist-packages/IPython/core/interactiveshell.py:3561: UserWarning: To exit: use 'exit', 'quit', or Ctrl-D.\n",
            "  warn(\"To exit: use 'exit', 'quit', or Ctrl-D.\", stacklevel=1)\n"
          ]
        }
      ]
    }
  ]
}